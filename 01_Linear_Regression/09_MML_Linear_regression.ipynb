{
 "cells": [
  {
   "cell_type": "markdown",
   "metadata": {},
   "source": [
    "# [MML S2] 09. Linear regression "
   ]
  },
  {
   "cell_type": "markdown",
   "metadata": {},
   "source": [
    "### Basic concepts of linear regression \n",
    "\n",
    "There are two known values (observed data), input (or predictor variable) x and output (or label) y and our quest is to find a relationship between these two values using regression. \n",
    "\n",
    "$$\n",
    "y = f(x) + \\epsilon\n",
    "$$\n",
    "\n",
    "f(x) is a function of x and also it equals predicted (estimated) value, $y_{hat}$ as below \n",
    "\n",
    "$$\n",
    "y_{hat} = \\alpha x + \\beta\n",
    "$$\n",
    "\n",
    "$\\alpha$ and $\\beta$ are parameters. \n",
    "\n",
    "To define the relationship between x and y (or $y_{hat}$) well, optimized two paramters, $\\alpha$ and $\\beta$ with minimized $\\bigtriangleup y = y - y_{hat}$, should be found. \n",
    "\n",
    "Then it is the main object of the linear regression.\n",
    "\n",
    "To get started, it is an important process to understand mechanism briefly. \n",
    "\n",
    "First, the **Ordinary Least Squares (OLS)**, which estimates $\\alpha$ and $\\beta$ to minimize the sum of the squared difference between $y$ and $y_{hat}$ is addressed here. \n",
    "\n",
    "In detail, check out the blog ABB (\n"
   ]
  },
  {
   "cell_type": "markdown",
   "metadata": {},
   "source": [
    "### ☻ Linear regression w/ the OLS method\n",
    "Consider **random dataset** and find $\\alpha$ and $\\beta$ using the OLS method. "
   ]
  },
  {
   "cell_type": "code",
   "execution_count": 56,
   "metadata": {},
   "outputs": [],
   "source": [
    "##########################\n",
    "#    call library\n",
    "##########################\n",
    "import numpy as np\n",
    "import pandas as pd\n",
    "import matplotlib \n",
    "import matplotlib.pyplot as plt\n",
    "\n",
    "##########################\n",
    "#    Real data generation \n",
    "#    : we generate random data \n",
    "##########################\n",
    "\n",
    "np.random.seed(0)\n",
    "\n",
    "#..... input/predictor \n",
    "#      generate 100 data p't w mean of 1.5 and stddev of 2.5\n",
    "x = 2.5 * np.random.randn(100) + 1.5   \n",
    "#..... generate residual term \n",
    "res = 0.5 * np.random.randn(100)       \n",
    "#..... output/label (ground truth)\n",
    "y = 2 + 0.3 * x + res                  \n",
    "\n",
    "#..... to dataframe\n",
    "df = pd.DataFrame(\n",
    "    {'x': x,\n",
    "     'y': y}\n",
    ")"
   ]
  },
  {
   "cell_type": "code",
   "execution_count": 40,
   "metadata": {},
   "outputs": [
    {
     "name": "stdout",
     "output_type": "stream",
     "text": [
      "=========================================\n",
      " check statistical values\n",
      "-----------------------------------------\n",
      "x_mean: 1.6495200388362121\n",
      "y_mean: 2.5358624970247825\n",
      "=========================================\n"
     ]
    },
    {
     "data": {
      "image/png": "[encoded data removed]",
      "text/plain": [
       "<Figure size 576x432 with 1 Axes>"
      ]
     },
     "metadata": {
      "needs_background": "light"
     },
     "output_type": "display_data"
    }
   ],
   "source": [
    "##########################\n",
    "#    Visualiztion \n",
    "##########################\n",
    "plt.figure(figsize=(8,6))\n",
    "plt.plot(x,y,'ko')\n",
    "plt.xlabel('x')\n",
    "plt.ylabel('y')\n",
    "\n",
    "print('=========================================')\n",
    "print(' check statistical values')\n",
    "print('-----------------------------------------')\n",
    "print('x_mean:',np.mean(x))\n",
    "print('y_mean:',np.mean(y))\n",
    "print('=========================================')"
   ]
  },
  {
   "cell_type": "code",
   "execution_count": 41,
   "metadata": {},
   "outputs": [
    {
     "name": "stdout",
     "output_type": "stream",
     "text": [
      "=========================================\n",
      "alpha = 0.3229396867092763\n",
      "beta = 2.0031670124623426\n",
      "=========================================\n"
     ]
    },
    {
     "data": {
      "text/plain": [
       "<matplotlib.legend.Legend at 0x7fbe9f488e90>"
      ]
     },
     "execution_count": 41,
     "metadata": {},
     "output_type": "execute_result"
    },
    {
     "data": {
      "image/png": "[encoded data removed]",
      "text/plain": [
       "<Figure size 576x432 with 1 Axes>"
      ]
     },
     "metadata": {
      "needs_background": "light"
     },
     "output_type": "display_data"
    }
   ],
   "source": [
    "##########################\n",
    "#    Find alpha, beta by OLS\n",
    "##########################\n",
    "#..... calcualte mean \n",
    "xmean = np.mean(x)\n",
    "ymean = np.mean(y)\n",
    "\n",
    "#..... calucalte alpha (weight) and beta (bias)\n",
    "df['xycov'] = (df['x'] - xmean) * (df['y'] - ymean)\n",
    "df['xvar'] = (df['x'] - xmean)**2\n",
    "\n",
    "alpha = df['xycov'].sum() / df['xvar'].sum()\n",
    "beta = ymean - (alpha * xmean)\n",
    "print('=========================================')\n",
    "print(f'alpha = {alpha}')\n",
    "print(f'beta = {beta}')\n",
    "print('=========================================')\n",
    "\n",
    "y_hat = alpha*x + beta\n",
    "\n",
    "#..... visualization \n",
    "plt.figure(figsize=(8,6))\n",
    "plt.plot(x,y,'ko',label='Ground truth')\n",
    "plt.plot(x,y_hat,'r-', label='Prediction')\n",
    "plt.text(-4.5, 1.9,r'$y_{hat}=\\alpha x+ \\beta$',\n",
    "         color='red',fontsize=20)\n",
    "plt.xlabel('x')\n",
    "plt.ylabel('y')\n",
    "plt.legend()"
   ]
  },
  {
   "cell_type": "markdown",
   "metadata": {},
   "source": [
    "### ☻ Linear regression w/ statsmodels\n",
    "Consider **advertising dataset** "
   ]
  },
  {
   "cell_type": "code",
   "execution_count": 55,
   "metadata": {},
   "outputs": [
    {
     "name": "stdout",
     "output_type": "stream",
     "text": [
      "=========================================\n",
      "total size :  (200, 4)\n",
      "-----------------------------------------\n",
      "               TV       Radio   Newspaper       Sales\n",
      "count  200.000000  200.000000  200.000000  200.000000\n",
      "mean   147.042500   23.264000   30.554000   15.130500\n",
      "std     85.854236   14.846809   21.778621    5.283892\n",
      "min      0.700000    0.000000    0.300000    1.600000\n",
      "25%     74.375000    9.975000   12.750000   11.000000\n",
      "50%    149.750000   22.900000   25.750000   16.000000\n",
      "75%    218.825000   36.525000   45.100000   19.050000\n",
      "max    296.400000   49.600000  114.000000   27.000000\n",
      "=========================================\n",
      "      TV  Radio  Newspaper  Sales\n",
      "0  230.1   37.8       69.2   22.1\n",
      "1   44.5   39.3       45.1   10.4\n",
      "2   17.2   45.9       69.3   12.0\n",
      "3  151.5   41.3       58.5   16.5\n",
      "4  180.8   10.8       58.4   17.9\n",
      "=========================================\n"
     ]
    }
   ],
   "source": [
    "##########################\n",
    "#    Load dataset\n",
    "##########################\n",
    "advert = pd.read_csv('advertising.csv')\n",
    "#..... check dataset\n",
    "print('=========================================')\n",
    "print('total size : ', advert.shape)\n",
    "print('-----------------------------------------')\n",
    "print(advert.describe())\n",
    "print('=========================================')\n",
    "print(advert.head())\n",
    "print('=========================================')"
   ]
  },
  {
   "cell_type": "code",
   "execution_count": 68,
   "metadata": {},
   "outputs": [
    {
     "name": "stdout",
     "output_type": "stream",
     "text": [
      "=========================================\n",
      "Intercept    6.974821\n",
      "TV           0.055465\n",
      "dtype: float64\n",
      "=========================================\n"
     ]
    }
   ],
   "source": [
    "##########################\n",
    "#    model\n",
    "##########################\n",
    "import statsmodels.formula.api as smf\n",
    "\n",
    "#..... Initialise and fit linear regression model using `statsmodels`\n",
    "model = smf.ols('Sales ~ TV', data=advert)\n",
    "model = model.fit()\n",
    "\n",
    "#..... check the paramters\n",
    "print('=========================================')\n",
    "print(model.params)\n",
    "print('=========================================')"
   ]
  },
  {
   "cell_type": "code",
   "execution_count": 71,
   "metadata": {},
   "outputs": [
    {
     "data": {
      "text/plain": [
       "<matplotlib.legend.Legend at 0x7fbea0cdf690>"
      ]
     },
     "execution_count": 71,
     "metadata": {},
     "output_type": "execute_result"
    },
    {
     "data": {
      "image/png": "[encoded data removed]",
      "text/plain": [
       "<Figure size 576x432 with 1 Axes>"
      ]
     },
     "metadata": {
      "needs_background": "light"
     },
     "output_type": "display_data"
    }
   ],
   "source": [
    "##########################\n",
    "#    Predict + visualization\n",
    "##########################\n",
    "sales_pred = model.predict()\n",
    "\n",
    "#..... visualization\n",
    "plt.figure(figsize=(8,6))\n",
    "plt.plot(advert.TV, advert.Sales, 'ko',label='Ground truth') \n",
    "plt.plot(advert.TV, sales_pred, 'r-', label='Prediction')\n",
    "plt.text(10, 20,r'$y_{hat}=\\alpha x+ \\beta$',\n",
    "         color='red',fontsize=20)\n",
    "\n",
    "plt.xlabel('TV Advertising Costs')\n",
    "plt.ylabel('Sales')\n",
    "plt.legend()"
   ]
  },
  {
   "cell_type": "markdown",
   "metadata": {},
   "source": [
    "### ☻ Linear regression w/ scikit-learn\n",
    "Consider **advertising dataset** "
   ]
  },
  {
   "cell_type": "code",
   "execution_count": 60,
   "metadata": {},
   "outputs": [
    {
     "name": "stdout",
     "output_type": "stream",
     "text": [
      "=========================================\n",
      "alpha = [0.05444896 0.10717457]\n",
      "beta = 4.63087946409777\n",
      "=========================================\n"
     ]
    }
   ],
   "source": [
    "##########################\n",
    "#    model\n",
    "##########################\n",
    "from sklearn.linear_model import LinearRegression\n",
    "\n",
    "#..... consider multivariable, x1=TV and x2=Radio\n",
    "predictors = ['TV', 'Radio']\n",
    "X = advert[predictors]\n",
    "y = advert['Sales']\n",
    "\n",
    "#..... Initialise and fit model\n",
    "lm = LinearRegression()\n",
    "model = lm.fit(X, y)\n",
    "\n",
    "#..... check the paramters\n",
    "print('=========================================')\n",
    "print(f'alpha = {model.coef_}')\n",
    "print(f'beta = {model.intercept_}')\n",
    "print('=========================================')"
   ]
  },
  {
   "cell_type": "code",
   "execution_count": 72,
   "metadata": {},
   "outputs": [
    {
     "data": {
      "text/plain": [
       "0      19.737265\n",
       "1       9.443004\n",
       "2       7.928816\n",
       "3      15.377734\n",
       "4      17.002852\n",
       "         ...    \n",
       "195     9.093576\n",
       "196    12.199603\n",
       "197    16.792086\n",
       "198    22.704630\n",
       "199    19.848195\n",
       "Length: 200, dtype: float64"
      ]
     },
     "execution_count": 72,
     "metadata": {},
     "output_type": "execute_result"
    }
   ],
   "source": [
    "##########################\n",
    "#    Predict + visualization\n",
    "##########################\n",
    "sales_multipred = model.predict(X)\n",
    "sales_multipred"
   ]
  }
 ],
 "metadata": {
  "kernelspec": {
   "display_name": "Python 3",
   "language": "python",
   "name": "python3"
  },
  "language_info": {
   "codemirror_mode": {
    "name": "ipython",
    "version": 3
   },
   "file_extension": ".py",
   "mimetype": "text/x-python",
   "name": "python",
   "nbconvert_exporter": "python",
   "pygments_lexer": "ipython3",
   "version": "3.7.6"
  }
 },
 "nbformat": 4,
 "nbformat_minor": 4
}
